{
 "cells": [
  {
   "cell_type": "markdown",
   "id": "061fbb34-76fa-4770-8621-b81061b89f72",
   "metadata": {},
   "source": [
    "# Scraper"
   ]
  },
  {
   "cell_type": "code",
   "execution_count": 172,
   "id": "12d9b400-927d-476d-9b51-78087f0b013e",
   "metadata": {
    "ExecuteTime": {
     "end_time": "2024-10-20T19:21:47.628526Z",
     "start_time": "2024-10-20T19:21:47.623521Z"
    }
   },
   "outputs": [],
   "source": [
    "# Main Python Imports\n",
    "import duckdb as dd\n",
    "import pandas as pd\n",
    "import time\n",
    "from io import StringIO\n",
    "\n",
    "# Selenium Imports\n",
    "from selenium import webdriver\n",
    "from selenium.webdriver.chrome.service import Service\n",
    "from selenium.webdriver.common.keys import Keys\n",
    "from selenium.webdriver.common.by import By\n",
    "from selenium.webdriver.support.ui import Select, WebDriverWait\n",
    "from selenium.webdriver.support import expected_conditions as EC\n",
    "from selenium.webdriver.common.action_chains import ActionChains\n",
    "\n",
    "# Scraping Imports\n",
    "from bs4 import BeautifulSoup\n",
    "import requests\n",
    "\n",
    "# Warnings to avoid pd.read_html deprecation warnings\n",
    "import warnings\n",
    "warnings.filterwarnings('error', category=DeprecationWarning)\n",
    "warnings.simplefilter(action='ignore', category=FutureWarning)\n",
    "\n",
    "\n",
    "# Progress bar\n",
    "import tqdm"
   ]
  },
  {
   "cell_type": "code",
   "execution_count": 173,
   "id": "f0751859-5108-48c5-af31-c70f4be092cd",
   "metadata": {
    "ExecuteTime": {
     "end_time": "2024-10-20T19:21:49.406227Z",
     "start_time": "2024-10-20T19:21:49.393981Z"
    }
   },
   "outputs": [],
   "source": [
    "# Database Connection\n",
    "con = dd.connect(\"project.db\")"
   ]
  },
  {
   "cell_type": "code",
   "execution_count": 3,
   "id": "5a13f322-fd96-462f-981e-b52eef7d058b",
   "metadata": {
    "ExecuteTime": {
     "end_time": "2024-10-20T14:20:12.994138Z",
     "start_time": "2024-10-20T14:20:12.988324Z"
    }
   },
   "outputs": [],
   "source": [
    "teams = con.sql(\"SELECT * FROM DIMTEAM\").df()"
   ]
  },
  {
   "cell_type": "code",
   "execution_count": 4,
   "id": "57219c74-a9ec-40b0-a8d9-f454ca764598",
   "metadata": {
    "ExecuteTime": {
     "end_time": "2024-10-20T14:20:17.321822Z",
     "start_time": "2024-10-20T14:20:12.995517Z"
    }
   },
   "outputs": [],
   "source": [
    "service = Service(executable_path=\"C:/Users/matth/geckodriver-v0.35.0-win32/geckodriver.exe\")\n",
    "options = webdriver.FirefoxOptions()\n",
    "options.binary_location = r'C:\\Program Files\\Mozilla Firefox\\firefox.exe'\n",
    "options.add_argument('-headless')\n",
    "driver = webdriver.Firefox(service=service, options=options)"
   ]
  },
  {
   "cell_type": "code",
   "execution_count": 5,
   "id": "baa6f826-ad2f-48b9-a9f8-7e3e00b77c8e",
   "metadata": {
    "ExecuteTime": {
     "end_time": "2024-10-20T14:20:17.329073Z",
     "start_time": "2024-10-20T14:20:17.324348Z"
    }
   },
   "outputs": [],
   "source": [
    "years = [\n",
    "    \"2014-15\",\n",
    "    \"2015-16\",\n",
    "    \"2016-17\",\n",
    "    \"2017-18\",\n",
    "    \"2018-19\",\n",
    "    \"2019-20\",\n",
    "    \"2020-21\",\n",
    "    \"2021-22\",\n",
    "    \"2022-23\",\n",
    "    \"2023-24\",\n",
    "    \"2024-25\"\n",
    "]"
   ]
  },
  {
   "cell_type": "code",
   "execution_count": 6,
   "id": "3ef931a1-849d-402a-9462-1f0d467caf40",
   "metadata": {
    "ExecuteTime": {
     "end_time": "2024-10-20T14:20:17.334849Z",
     "start_time": "2024-10-20T14:20:17.330552Z"
    }
   },
   "outputs": [],
   "source": [
    "custom_urls = {\n",
    "    \"University of Kentucky\": \"https://ukathletics.com/sports/mbball/roster/seasonYEAR\",\n",
    "    \"Auburn University\": \"https://auburntigers.com/sports/mens-basketball/roster/seasonYEAR\",\n",
    "    \"Georgia Institute of Technology\": \"https://ramblinwreck.com/sports/m-baskbl/roster/seasonYEAR\",\n",
    "    \"University of Arkansas, Fayetteville\": \"https://arkansasrazorbacks.com/sport/m-baskbl/roster/?season=YEAR\",\n",
    "    \"University of New Mexico\": \"https://golobos.com/sports/mbball/roster/seasonYEAR\",\n",
    "    \"University of Notre Dame\": \"https://fightingirish.com/sports/mbball/roster/seasonYEAR\",\n",
    "    \"University of San Francisco\": \"https://usfdons.com/sports/mens-basketball/rosterYEAR\",\n",
    "    \"Vanderbilt University\": \"https://vucommodores.com/sports/mbball/roster/seasonYEAR\",\n",
    "    \"Pennsylvania State University\": \"https://gopsusports.com/sports/mens-basketball/roster/seasonYEAR?view=table\",\n",
    "    \"San Diego State University\": \"https://goaztecs.com/sports/mens-basketball/roster/seasonYEAR?view=table\",\n",
    "    \"San Jose State University\": \"https://sjsuspartans.com/sports/mens-basketball/roster/seasonYEAR?view=table\",\n",
    "    \"University of South Carolina, Columbia\": \"https://gamecocksonline.com/sports/mbball/roster/seasonYEAR\",\n",
    "    \"Virginia Polytechnic Institute and State University\": \"https://hokiesports.com/sports/mens-basketball/roster/seasonYEAR?view=table\",\n",
    "    \"Brigham Young University\": \"https://byucougars.com/sports/mens-basketball/roster/seasonYEAR?view=table\", \n",
    "    \"University of Central Florida\": \"https://ucfknights.com/sports/mens-basketball/roster/seasonYEAR?view=table\",\n",
    "    \"Clemson University\": \"https://clemsontigers.com/sports/mens-basketball/roster/seasonYEAR\",\n",
    "    \"University of Iowa\": \"https://hawkeyesports.com/sports/mbball/roster/seasonYEAR\",\n",
    "    \"Louisiana State University\": \"https://lsusports.net/sports/mb/roster/seasonYEAR\",\n",
    "    \"Stanford University\": \"https://gostanford.com/sports/mens-basketball/roster/seasonYEAR\",\n",
    "    \"University of Miami (Florida)\": \"https://miamihurricanes.com/sports/mbball/roster/seasonYEAR\",\n",
    "    \"University of Nebraska-Lincoln\": \"https://huskers.com/sports/mens-basketball/roster/seasonYEAR\",\n",
    "    \"University of Virginia\": \"https://virginiasports.com/sports/mbball/roster/seasonYEAR\"\n",
    "}"
   ]
  },
  {
   "cell_type": "code",
   "execution_count": 7,
   "id": "166ef765-217d-4597-9ae0-3e3c5e7d351f",
   "metadata": {
    "ExecuteTime": {
     "end_time": "2024-10-20T15:40:32.268949Z",
     "start_time": "2024-10-20T14:20:17.336283Z"
    },
    "scrolled": true
   },
   "outputs": [
    {
     "name": "stderr",
     "output_type": "stream",
     "text": [
      "  7%|▋         | 7/101 [03:20<37:45, 24.10s/it]  "
     ]
    },
    {
     "name": "stdout",
     "output_type": "stream",
     "text": [
      "Scraping failed. Url: https://www.gobulldogs.com/sports/mens-basketball/roster/2014-15\n"
     ]
    },
    {
     "name": "stderr",
     "output_type": "stream",
     "text": [
      " 41%|████      | 41/101 [33:48<50:02, 50.05s/it]  "
     ]
    },
    {
     "name": "stdout",
     "output_type": "stream",
     "text": [
      "Scraping failed. Url: https://gostanford.com/sports/mens-basketball/roster/season/2023-24\n"
     ]
    },
    {
     "name": "stderr",
     "output_type": "stream",
     "text": [
      " 42%|████▏     | 42/101 [34:07<40:01, 40.70s/it]"
     ]
    },
    {
     "name": "stdout",
     "output_type": "stream",
     "text": [
      "Scraping failed. Url: https://cuse.com/sports/mens-basketball/roster/2023-24\n"
     ]
    },
    {
     "name": "stderr",
     "output_type": "stream",
     "text": [
      " 45%|████▍     | 45/101 [37:45<51:16, 54.94s/it]  "
     ]
    },
    {
     "name": "stdout",
     "output_type": "stream",
     "text": [
      "Scraping failed. Url: https://www.texastech.com/sports/mens-basketball/roster/2014-15\n"
     ]
    },
    {
     "name": "stderr",
     "output_type": "stream",
     "text": [
      " 57%|█████▋    | 58/101 [49:03<24:20, 33.96s/it]  "
     ]
    },
    {
     "name": "stdout",
     "output_type": "stream",
     "text": [
      "Scraping failed. Url: https://www.georgiadogs.com/sports/mens-basketball/roster/2014-15\n"
     ]
    },
    {
     "name": "stderr",
     "output_type": "stream",
     "text": [
      "100%|██████████| 101/101 [1:20:14<00:00, 47.67s/it]"
     ]
    },
    {
     "name": "stdout",
     "output_type": "stream",
     "text": [
      "CPU times: total: 54.8 s\n",
      "Wall time: 1h 20min 14s\n"
     ]
    },
    {
     "name": "stderr",
     "output_type": "stream",
     "text": [
      "\n"
     ]
    }
   ],
   "source": [
    "%%time\n",
    "\n",
    "rosters = {}\n",
    "\n",
    "pbar = tqdm.tqdm(total = len(teams))\n",
    "\n",
    "# Regular roster urls\n",
    "for index, row in teams.iterrows():\n",
    "\n",
    "    for year in years:\n",
    "\n",
    "        if row[\"Name\"] in [\"Clemson University\"]:\n",
    "            year = year[:4]\n",
    "\n",
    "        if row[\"Name\"] in [\"Brigham Young University\"]:\n",
    "            year = year[:5] + \"20\" + year[5:]\n",
    "        \n",
    "        if row[\"Name\"] in custom_urls.keys():\n",
    "            if row[\"Name\"] == \"University of Arkansas, Fayetteville\":\n",
    "                url = custom_urls[row[\"Name\"]].replace(\"YEAR\", year)\n",
    "            else:\n",
    "                url = custom_urls[row[\"Name\"]].replace(\"YEAR\", \"/\" + year)\n",
    "        else:\n",
    "            url = row[\"website\"] + \"sports/mens-basketball/roster\" + \"/\" + year\n",
    "    \n",
    "        try:\n",
    "            r = requests.get(url)\n",
    "            df = pd.read_html(StringIO(r.text))\n",
    "        except:\n",
    "            # Try with selenium\n",
    "            try:\n",
    "                driver.get(url)\n",
    "                WebDriverWait(driver, 100).until(lambda driver: driver.execute_script('return document.readyState') == 'complete')\n",
    "    \n",
    "                if row[\"Name\"] in [\"University of Wyoming\", \"University of San Diego\", \"Iowa State University\", \"Utah State University\"]:\n",
    "    \n",
    "                    action = ActionChains(driver)\n",
    "                    action.send_keys(Keys.ENTER).perform()\n",
    "    \n",
    "                    time.sleep(2)\n",
    "                    \n",
    "                    dropdown = \"\"\n",
    "                    if row[\"Name\"] == \"University of San Diego\":\n",
    "                        dropdown = \"-dropdown\"\n",
    "                        \n",
    "                    sel_el = driver.find_element(By.XPATH, f\"//*[@id=\\\"sidearm-roster-select-template{dropdown}\\\"]\")\n",
    "                    selector = Select(sel_el)\n",
    "                    selector.select_by_visible_text(\"Roster View - Grid\")\n",
    "    \n",
    "                    time.sleep(2)\n",
    "    \n",
    "                    # Click go to apply\n",
    "                    driver.find_element(By.XPATH, \"//*[@id=\\\"sidearm-roster-select-template-button\\\"]\").click()\n",
    "                    time.sleep(2)\n",
    "                \n",
    "                df = pd.read_html(StringIO(driver.page_source))\n",
    "            except:\n",
    "                try:\n",
    "                    # Click the grid view button\n",
    "                    time.sleep(2)\n",
    "                    driver.find_element(By.XPATH, \"//*[@id=\\\"_viewType_table\\\"]\").click()\n",
    "                    time.sleep(2)\n",
    "                    df = pd.read_html(StringIO(driver.page_source))\n",
    "                except:\n",
    "                        \n",
    "                    print(\"Scraping failed. Url: \" + url)\n",
    "                    \n",
    "        if row[\"Name\"] not in rosters.keys():\n",
    "            rosters[row[\"Name\"]] = {}\n",
    "        \n",
    "        rosters[row[\"Name\"]][year] = df\n",
    "        \n",
    "    pbar.update(1)\n",
    "\n",
    "pbar.close()"
   ]
  },
  {
   "cell_type": "code",
   "execution_count": 8,
   "id": "92454cd6-0e49-4d7c-8470-9e725ad2e38e",
   "metadata": {
    "ExecuteTime": {
     "end_time": "2024-10-20T15:40:35.692494Z",
     "start_time": "2024-10-20T15:40:32.270464Z"
    }
   },
   "outputs": [],
   "source": [
    "driver.quit()"
   ]
  },
  {
   "cell_type": "code",
   "execution_count": 147,
   "id": "ca7daa19-e41c-4418-bee7-0e49647f9613",
   "metadata": {
    "ExecuteTime": {
     "end_time": "2024-10-20T18:18:50.664539Z",
     "start_time": "2024-10-20T18:18:50.067299Z"
    }
   },
   "outputs": [],
   "source": [
    "rosters_scraped = {}\n",
    "for team in rosters:\n",
    "    year_change = {k:[df for df in v if len(df) > 0 and \n",
    "                     (\"Ht.\" in df.columns \n",
    "                      or \"Ht\" in df.columns \n",
    "                      or \"Height\" in df.columns \n",
    "                      or \"HT.\" in df.columns \n",
    "                      or \"Pos\" in df.columns\n",
    "                      or \"Pos.\" in df.columns\n",
    "                      or \"HT\" in df.columns\n",
    "                      or \"HGT.\" in df.columns\n",
    "                      )]\n",
    "                  for k,v in rosters[team].items()}\n",
    "    # if team == \"Baylor University\":\n",
    "    #     print(year_change)\n",
    "    year_change = {k:v[0] for k,v in year_change.items() if len(v) > 0}\n",
    "\n",
    "    team_rosters = pd.DataFrame(columns = list(year_change.values())[0].columns)\n",
    "\n",
    "    for year in year_change:\n",
    "        if len(year_change[year]) == 0:\n",
    "            continue\n",
    "        year_change[year][\"Season\"] = year\n",
    "        team_rosters = pd.concat([team_rosters,year_change[year]])\n",
    "\n",
    "\n",
    "    rosters_scraped[team] = team_rosters"
   ]
  },
  {
   "cell_type": "code",
   "execution_count": 148,
   "id": "d9ae0e26-8088-4eeb-bbb5-0bd21abc8fae",
   "metadata": {
    "ExecuteTime": {
     "end_time": "2024-10-20T18:18:51.800877Z",
     "start_time": "2024-10-20T18:18:51.764949Z"
    }
   },
   "outputs": [],
   "source": [
    "rosters_update = {}\n",
    "for team in rosters_scraped:\n",
    "    df = rosters_scraped[team]\n",
    "    columns_to_keep = [\n",
    "        c for c in df.columns\n",
    "        if \"name\" in c.lower() \n",
    "           or \"pos\" in c.lower()\n",
    "           or \"#\" in c.lower()\n",
    "           or \"no\" in c.lower()\n",
    "           or \"num\" in c.lower()\n",
    "           or \"ht\" in c.lower()\n",
    "           or \"height\" in c.lower()\n",
    "           or \"weight\" in c.lower()\n",
    "           or \"wt\" in c.lower()\n",
    "           or \"yr\" in c.lower()\n",
    "           or \"year\" in c.lower()\n",
    "           or \"cl\" in c.lower()\n",
    "           or \"season\" in c.lower()\n",
    "    ]\n",
    "    \n",
    "    rosters_update[team] = df[columns_to_keep]"
   ]
  },
  {
   "cell_type": "code",
   "execution_count": 149,
   "id": "cb072c7eacf0f7b8",
   "metadata": {
    "ExecuteTime": {
     "end_time": "2024-10-20T18:18:52.748719Z",
     "start_time": "2024-10-20T18:18:52.744423Z"
    },
    "collapsed": false
   },
   "outputs": [],
   "source": [
    "def coalesced_cols(df, cols):\n",
    "    return list(df[cols].bfill(axis=1).iloc[:, 0])"
   ]
  },
  {
   "cell_type": "code",
   "execution_count": 150,
   "id": "161ed1067e7b60d",
   "metadata": {
    "ExecuteTime": {
     "end_time": "2024-10-20T18:18:53.663382Z",
     "start_time": "2024-10-20T18:18:53.169610Z"
    },
    "collapsed": false
   },
   "outputs": [],
   "source": [
    "rosters_coalesced = {}\n",
    "for team in rosters_update:\n",
    "    df = rosters_update[team]\n",
    "    new_df = {}\n",
    "    \n",
    "    # Names\n",
    "    name_cols = [c for c in df if \"name\" in c.lower()]\n",
    "    \n",
    "    if len(name_cols) == 1:\n",
    "        new_df[\"Name\"] = df[name_cols[0]]\n",
    "    else:\n",
    "        new_df[\"Name\"] = coalesced_cols(df, name_cols)\n",
    "\n",
    "    # Nums\n",
    "    num_cols = [c for c in df if \"num\" in c.lower() or \"no\" in c.lower() or \"#\" in c.lower()]\n",
    "\n",
    "    if len(num_cols) == 1:\n",
    "        new_df[\"#\"] = df[num_cols[0]]\n",
    "    else:\n",
    "        new_df[\"#\"] = coalesced_cols(df, num_cols)\n",
    "\n",
    "    # Height\n",
    "    ht_cols = [c for c in df if \"ht\" in c.lower() or \"height\" in c.lower()]\n",
    "\n",
    "    if len(ht_cols) == 0:\n",
    "        new_df[\"Height\"] = [None for i in range(len(df))]\n",
    "    elif len(ht_cols) == 1:\n",
    "        new_df[\"Height\"] = df[ht_cols[0]]\n",
    "    else:\n",
    "        new_df[\"Height\"] = coalesced_cols(df, ht_cols)\n",
    "\n",
    "\n",
    "    # Weight\n",
    "    wt_cols = [c for c in df if \"weight\" in c.lower() or \"wt\" in c.lower()]\n",
    "\n",
    "    if len(wt_cols) == 0:\n",
    "        new_df[\"Weight\"] = [None for i in range(len(df))]\n",
    "    elif len(wt_cols) == 1:\n",
    "        new_df[\"Weight\"] = df[wt_cols[0]]\n",
    "    else:\n",
    "        new_df[\"Weight\"] = coalesced_cols(df, wt_cols)\n",
    "\n",
    "    # Year\n",
    "    year_cols = [c for c in df if \"year\" in c.lower() or \"yr\" in c.lower() or \"cl\" in c.lower()]\n",
    "\n",
    "    if len(year_cols) == 1:\n",
    "        new_df[\"Year\"] = df[year_cols[0]]\n",
    "    else:\n",
    "        new_df[\"Year\"] = coalesced_cols(df, year_cols)\n",
    "        \n",
    "    new_df[\"Season\"] = df[\"Season\"]\n",
    "    \n",
    "    team_df = pd.DataFrame(new_df)\n",
    "    team_df[\"Team\"] = team\n",
    "    \n",
    "    rosters_coalesced[team] = team_df"
   ]
  },
  {
   "cell_type": "code",
   "execution_count": 175,
   "id": "8f6f998578d5377c",
   "metadata": {
    "ExecuteTime": {
     "end_time": "2024-10-20T19:22:04.635667Z",
     "start_time": "2024-10-20T19:22:04.510560Z"
    },
    "collapsed": false
   },
   "outputs": [],
   "source": [
    "cols = [\"Name\", \"#\", \"Height\", \"Weight\", \"Season\", \"Year\", \"Team\"]\n",
    "roster_df = pd.DataFrame(columns=cols)\n",
    "for roster in rosters_coalesced:\n",
    "    roster_df = pd.concat([test_df, rosters_coalesced[roster]])\n",
    "roster_df = roster_df[~(roster_df[\"Name\"].isna())]"
   ]
  },
  {
   "cell_type": "code",
   "execution_count": 174,
   "id": "670dda39fef1c925",
   "metadata": {
    "ExecuteTime": {
     "end_time": "2024-10-20T19:22:00.497170Z",
     "start_time": "2024-10-20T19:22:00.460446Z"
    },
    "collapsed": false
   },
   "outputs": [],
   "source": [
    "con.sql(\n",
    "    \"\"\"\n",
    "    CREATE OR REPLACE TABLE ROSTERS AS\n",
    "    SELECT *, ROW_NUMBER(` FROM roster_df\n",
    "    \"\"\"\n",
    ")"
   ]
  },
  {
   "cell_type": "code",
   "execution_count": 170,
   "id": "962f5003e9788918",
   "metadata": {
    "ExecuteTime": {
     "end_time": "2024-10-20T18:26:03.826276Z",
     "start_time": "2024-10-20T18:26:03.802177Z"
    },
    "collapsed": false
   },
   "outputs": [],
   "source": [
    "con.close()"
   ]
  }
 ],
 "metadata": {
  "kernelspec": {
   "display_name": "data-contest",
   "language": "python",
   "name": "data-contest"
  },
  "language_info": {
   "codemirror_mode": {
    "name": "ipython",
    "version": 3
   },
   "file_extension": ".py",
   "mimetype": "text/x-python",
   "name": "python",
   "nbconvert_exporter": "python",
   "pygments_lexer": "ipython3",
   "version": "3.12.3"
  }
 },
 "nbformat": 4,
 "nbformat_minor": 5
}
