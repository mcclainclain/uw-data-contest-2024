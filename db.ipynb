{
 "cells": [
  {
   "cell_type": "markdown",
   "id": "f4bda11e-41d0-4004-8422-6f7ec0d9e727",
   "metadata": {},
   "source": [
    "# Database Setup"
   ]
  },
  {
   "cell_type": "code",
   "execution_count": 1,
   "id": "c9c94fbb-091e-4aa1-923e-30d03fcda884",
   "metadata": {
    "ExecuteTime": {
     "end_time": "2024-10-20T14:17:15.580050Z",
     "start_time": "2024-10-20T14:17:13.919448Z"
    }
   },
   "outputs": [],
   "source": [
    "# Main Python Imports\n",
    "import duckdb as dd\n",
    "import pandas as pd\n",
    "import time\n",
    "from io import StringIO\n",
    "\n",
    "# Selenium Imports\n",
    "from selenium import webdriver\n",
    "from selenium.webdriver.chrome.service import Service\n",
    "from selenium.webdriver.common.keys import Keys\n",
    "from selenium.webdriver.common.by import By\n",
    "from selenium.webdriver.support.ui import Select, WebDriverWait\n",
    "from selenium.webdriver.support import expected_conditions as EC\n",
    "\n",
    "# Scraping Imports\n",
    "from bs4 import BeautifulSoup\n",
    "import requests\n",
    "\n",
    "# Warnings to avoid pd.read_html deprecation warnings\n",
    "import warnings\n",
    "warnings.filterwarnings('error', category=DeprecationWarning)"
   ]
  },
  {
   "cell_type": "code",
   "execution_count": 2,
   "id": "ecee08fa-9c9d-48f4-90be-8bf217e33504",
   "metadata": {
    "ExecuteTime": {
     "end_time": "2024-10-20T14:17:15.591064Z",
     "start_time": "2024-10-20T14:17:15.581059Z"
    }
   },
   "outputs": [],
   "source": [
    "con = dd.connect('project.db')"
   ]
  },
  {
   "cell_type": "code",
   "execution_count": 3,
   "id": "35f765c2-fc76-432b-8ae5-3237b6c67dca",
   "metadata": {
    "ExecuteTime": {
     "end_time": "2024-10-20T14:17:20.361730Z",
     "start_time": "2024-10-20T14:17:15.591064Z"
    }
   },
   "outputs": [],
   "source": [
    "service = Service(executable_path=\"C:/Users/matth/geckodriver-v0.35.0-win32/geckodriver.exe\")\n",
    "options = webdriver.FirefoxOptions()\n",
    "options.binary_location = r'C:\\Program Files\\Mozilla Firefox\\firefox.exe'\n",
    "options.add_argument('-headless')\n",
    "driver = webdriver.Firefox(service=service, options=options)"
   ]
  },
  {
   "cell_type": "code",
   "execution_count": 4,
   "id": "eb959afb-420f-4abc-9924-4a7aa3774565",
   "metadata": {
    "ExecuteTime": {
     "end_time": "2024-10-20T14:17:21.259745Z",
     "start_time": "2024-10-20T14:17:20.364765Z"
    }
   },
   "outputs": [],
   "source": [
    "# Get NCAA team links\n",
    "driver.get(\"https://web3.ncaa.org/directory/memberList?type=12&division=I&sportCode=MBB\")"
   ]
  },
  {
   "cell_type": "code",
   "execution_count": 5,
   "id": "c256e0dc-d9eb-4455-a594-0a2bd1b86255",
   "metadata": {
    "ExecuteTime": {
     "end_time": "2024-10-20T14:17:51.014668Z",
     "start_time": "2024-10-20T14:17:21.261756Z"
    }
   },
   "outputs": [],
   "source": [
    "colleges = []\n",
    "\n",
    "while True:\n",
    "    time.sleep(1)\n",
    "    next_element = driver.find_element(By.ID, \"memberListTable_next\")\n",
    "\n",
    "    # Get the table\n",
    "    full_table = pd.read_html(StringIO(driver.page_source))[0]\n",
    "\n",
    "    # Get links for each college\n",
    "    soup = BeautifulSoup(driver.page_source)\n",
    "    full_table[\"relative_link\"] = [a['href'] for a in soup.find('table').find_all('a')][::2]\n",
    "\n",
    "    colleges.append(full_table)\n",
    "\n",
    "    if \"disabled\" in next_element.get_attribute(\"class\"):\n",
    "        break\n",
    "\n",
    "    driver.execute_script(\"arguments[0].click();\",next_element)\n",
    "    time.sleep(1)\n"
   ]
  },
  {
   "cell_type": "code",
   "execution_count": 6,
   "id": "62202b10-c683-4a42-9cfa-4f90043e2072",
   "metadata": {
    "ExecuteTime": {
     "end_time": "2024-10-20T14:17:51.025301Z",
     "start_time": "2024-10-20T14:17:51.016181Z"
    }
   },
   "outputs": [],
   "source": [
    "power_bball = pd.concat(colleges)\n",
    "power_bball = power_bball[power_bball[\"Conference\"].isin([\"Big East Conference\", \"Big Ten Conference\", \"Big 12 Conference\", \"Atlantic Coast Conference\", \"Southeastern Conference\", \"Mountain West Conference\", \"West Coast Conference\"])]\n",
    "\n",
    "power_bball = power_bball.drop(columns=[\"Division\", \"Reclass Division\", \"Public/Private\", \"HBCU\", \"Region\"])"
   ]
  },
  {
   "cell_type": "code",
   "execution_count": 7,
   "id": "01730897-a760-4c52-956d-fed96363ef46",
   "metadata": {
    "ExecuteTime": {
     "end_time": "2024-10-20T14:17:53.733522Z",
     "start_time": "2024-10-20T14:17:51.026310Z"
    }
   },
   "outputs": [],
   "source": [
    "driver.quit()"
   ]
  },
  {
   "cell_type": "code",
   "execution_count": 8,
   "id": "e2457669-2fc3-475e-82f2-246a5c3533e0",
   "metadata": {
    "ExecuteTime": {
     "end_time": "2024-10-20T14:18:22.708093Z",
     "start_time": "2024-10-20T14:17:53.735045Z"
    },
    "scrolled": true
   },
   "outputs": [],
   "source": [
    "# Get all links to university athletic websites\n",
    "base_url = \"https://web3.ncaa.org/directory/\"\n",
    "\n",
    "website_links = []\n",
    "for link in power_bball[\"relative_link\"]:\n",
    "    r = requests.get(base_url + link).content\n",
    "    soup = BeautifulSoup(r, 'html.parser')\n",
    "    scraped_link = soup.find_all(\"div\", {\"class\": \"list-group\"})[1].find_all('a')[1]['href']\n",
    "    website_links.append(scraped_link)\n",
    "\n",
    "# Make sure we are using https\n",
    "website_links = [s.replace('http', 'https') for s in website_links]\n",
    "\n",
    "# Add slash at end to link if it doesn't have one\n",
    "for i in range(len(website_links)):\n",
    "    if website_links[i][-1] != \"/\":\n",
    "        website_links[i] += \"/\"\n",
    "\n",
    "power_bball['website'] = website_links"
   ]
  },
  {
   "cell_type": "code",
   "execution_count": 9,
   "id": "141505df-d117-43b8-9c97-42f11d47fbc2",
   "metadata": {
    "ExecuteTime": {
     "end_time": "2024-10-20T14:18:22.719505Z",
     "start_time": "2024-10-20T14:18:22.709099Z"
    }
   },
   "outputs": [],
   "source": [
    "# Create the table with all the teams we want to investigate\n",
    "con.sql(\"\"\"\n",
    "    CREATE OR REPLACE TABLE DIMTEAM as\n",
    "    SELECT * FROM power_bball\n",
    "\"\"\")"
   ]
  },
  {
   "cell_type": "code",
   "execution_count": 10,
   "id": "82148677-355e-4485-be6a-04bb378c60ec",
   "metadata": {
    "ExecuteTime": {
     "end_time": "2024-10-20T14:18:22.734549Z",
     "start_time": "2024-10-20T14:18:22.720517Z"
    }
   },
   "outputs": [],
   "source": [
    "# Close the connection\n",
    "con.close()"
   ]
  }
 ],
 "metadata": {
  "kernelspec": {
   "display_name": "data-contest",
   "language": "python",
   "name": "data-contest"
  },
  "language_info": {
   "codemirror_mode": {
    "name": "ipython",
    "version": 3
   },
   "file_extension": ".py",
   "mimetype": "text/x-python",
   "name": "python",
   "nbconvert_exporter": "python",
   "pygments_lexer": "ipython3",
   "version": "3.12.3"
  }
 },
 "nbformat": 4,
 "nbformat_minor": 5
}
