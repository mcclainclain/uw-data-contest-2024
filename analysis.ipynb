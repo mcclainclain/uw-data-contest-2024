{
 "cells": [
  {
   "cell_type": "markdown",
   "id": "0c7473f2-304f-4e8f-a4b4-6690018cebca",
   "metadata": {},
   "source": [
    "# Analysis/Cleaning"
   ]
  },
  {
   "cell_type": "code",
   "execution_count": 42,
   "id": "6a87bd69-a5b0-4010-8d31-383fabe7af47",
   "metadata": {},
   "outputs": [],
   "source": [
    "import duckdb as dd\n",
    "import pandas as pd"
   ]
  },
  {
   "cell_type": "code",
   "execution_count": 53,
   "id": "d45856d9-7d55-457a-bca8-76208e8b6e71",
   "metadata": {},
   "outputs": [],
   "source": [
    "con = dd.connect(\"project.db\")"
   ]
  },
  {
   "cell_type": "code",
   "execution_count": 54,
   "id": "44164f9a-550d-4026-a24b-a1f33157911a",
   "metadata": {},
   "outputs": [],
   "source": [
    "teams = con.sql(\"SELECT * FROM DIMTEAM\").df()"
   ]
  },
  {
   "cell_type": "code",
   "execution_count": 55,
   "id": "f9dda08b-3ab4-4d9f-af24-9e2addbe9e97",
   "metadata": {},
   "outputs": [],
   "source": [
    "teams[\"Conference\"] = teams[\"Conference\"].str.split().apply(lambda x: \" \".join(x[:-1]))"
   ]
  },
  {
   "cell_type": "code",
   "execution_count": 56,
   "id": "9fd1275f-ec45-4a29-ae4a-b3d12f520200",
   "metadata": {},
   "outputs": [],
   "source": [
    "colors = pd.read_csv(\"color_teams.csv\")"
   ]
  },
  {
   "cell_type": "code",
   "execution_count": 57,
   "id": "e49f3272-981c-4a0c-9d86-693f0a51e3fd",
   "metadata": {},
   "outputs": [],
   "source": [
    "teams[\"HexColor\"] = colors[\"Hex_Code\"]"
   ]
  },
  {
   "cell_type": "code",
   "execution_count": 58,
   "id": "9d57a913-5dde-4e08-a255-34d4a0455456",
   "metadata": {},
   "outputs": [],
   "source": [
    "con.sql(\"CREATE OR REPLACE TABLE DIMTEAM as SELECT * FROM teams\")"
   ]
  },
  {
   "cell_type": "code",
   "execution_count": 30,
   "id": "88a1ef42-c144-4b59-9932-0497465e8136",
   "metadata": {},
   "outputs": [],
   "source": [
    "rosters = con.sql(\"SELECT * FROM rosters\").df()"
   ]
  },
  {
   "cell_type": "markdown",
   "id": "ec77b975-c960-4961-9a09-d3bd900ab123",
   "metadata": {},
   "source": [
    "## Roster Turnover"
   ]
  },
  {
   "cell_type": "code",
   "execution_count": 31,
   "id": "fe496b6c-58f3-40a3-b427-edc68062be13",
   "metadata": {},
   "outputs": [],
   "source": [
    "roster_groups = {name: list(group['PlayerID']) for name, group in rosters.sort_values(by=[\"Team\", \"Season\", \"Name\"]).groupby([\"Team\", \"Season\"])}"
   ]
  },
  {
   "cell_type": "code",
   "execution_count": 32,
   "id": "aa0fca0b-0321-4277-9dc3-be4218b0f36d",
   "metadata": {},
   "outputs": [],
   "source": [
    "roster_ids = {}\n",
    "for key in roster_groups.keys():\n",
    "    if key[0] not in roster_ids:\n",
    "        roster_ids[key[0]] = {}\n",
    "    roster_ids[key[0]][key[1]] = roster_groups[key]"
   ]
  },
  {
   "cell_type": "code",
   "execution_count": 33,
   "id": "9e240ba3-e174-4d96-9a49-62a9270ba919",
   "metadata": {},
   "outputs": [],
   "source": [
    "def turnover_pct(prev, next):\n",
    "    p = set(prev)\n",
    "    n = set(next)\n",
    "\n",
    "    num_same = len(n.intersection(p))\n",
    "\n",
    "    return num_same/len(n)"
   ]
  },
  {
   "cell_type": "code",
   "execution_count": 34,
   "id": "b2113181-aebf-4bf7-b04f-41a79dd1e918",
   "metadata": {},
   "outputs": [],
   "source": [
    "roster_turnovers = {}\n",
    "for key in roster_ids.keys():\n",
    "    roster_turnovers[key] = {}\n",
    "\n",
    "    sorted_keys = sorted(roster_ids[key].keys())\n",
    "    for index, key2 in enumerate(sorted_keys):\n",
    "        if index == 0:\n",
    "            roster_turnovers[key][key2] = None\n",
    "        else:\n",
    "            roster_turnovers[key][key2] = turnover_pct(roster_ids[key][sorted_keys[index-1]], roster_ids[key][key2])"
   ]
  },
  {
   "cell_type": "code",
   "execution_count": 35,
   "id": "978ae8a5-aeaa-4a3a-89a6-f9cfcdc6e13e",
   "metadata": {},
   "outputs": [],
   "source": [
    "turnover = pd.DataFrame(roster_turnovers).reset_index().melt(id_vars=[\"index\"], var_name=\"School\", value_name=\"PctTurnover\")"
   ]
  },
  {
   "cell_type": "code",
   "execution_count": 36,
   "id": "89452849-3166-4add-b1e9-1af34f04421a",
   "metadata": {},
   "outputs": [],
   "source": [
    "con.sql(\"\"\"\n",
    "    CREATE OR REPLACE TABLE ROSTERFACT as\n",
    "    SELECT r.*, t.PctTurnover\n",
    "    FROM ROSTERFACT r\n",
    "    LEFT JOIN turnover t \n",
    "    ON r.Team=t.School AND r.Season=t.index\n",
    "\"\"\"\n",
    "       )"
   ]
  },
  {
   "cell_type": "code",
   "execution_count": 59,
   "id": "a011eec1-e9ee-4256-881a-6100c5c3bbc9",
   "metadata": {},
   "outputs": [],
   "source": [
    "con.close()"
   ]
  },
  {
   "cell_type": "code",
   "execution_count": null,
   "id": "a57843ef-2c4b-4f9c-85ec-ce4720e2ec7b",
   "metadata": {},
   "outputs": [],
   "source": []
  }
 ],
 "metadata": {
  "kernelspec": {
   "display_name": "data-contest",
   "language": "python",
   "name": "data-contest"
  },
  "language_info": {
   "codemirror_mode": {
    "name": "ipython",
    "version": 3
   },
   "file_extension": ".py",
   "mimetype": "text/x-python",
   "name": "python",
   "nbconvert_exporter": "python",
   "pygments_lexer": "ipython3",
   "version": "3.12.3"
  }
 },
 "nbformat": 4,
 "nbformat_minor": 5
}
